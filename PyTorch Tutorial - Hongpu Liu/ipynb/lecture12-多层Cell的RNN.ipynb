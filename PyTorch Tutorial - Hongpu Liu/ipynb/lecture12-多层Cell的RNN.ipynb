{
 "cells": [
  {
   "cell_type": "markdown",
   "metadata": {},
   "source": [
    "# 多层Cell的RNN\n",
    "![IA7juh](https://gitee.com/pxqp9W/testmarkdown/raw/master/imgs/2020/07/IA7juh.png)\n",
    "![JwmD5h](https://gitee.com/pxqp9W/testmarkdown/raw/master/imgs/2020/07/JwmD5h.png)"
   ]
  },
  {
   "cell_type": "code",
   "execution_count": 9,
   "metadata": {},
   "outputs": [],
   "source": [
    "import torch"
   ]
  },
  {
   "cell_type": "code",
   "execution_count": 10,
   "metadata": {},
   "outputs": [],
   "source": [
    "# Parameters\n",
    "batch_size = 1\n",
    "seq_len = 3\n",
    "input_size = 4 \n",
    "hidden_size = 2\n",
    "num_layers = 1 # hidden层数"
   ]
  },
  {
   "cell_type": "code",
   "execution_count": 11,
   "metadata": {},
   "outputs": [],
   "source": [
    "# 可以直接调用PyTorch中的RNN函数\n",
    "cell = torch.nn.RNN(input_size=input_size, hidden_size=hidden_size, num_layers=num_layers)\n",
    "# (seq, batch, features)\n",
    "inputs = torch.randn(seq_len, batch_size, input_size) # 随机产生一组输入数据\n",
    "hidden = torch.zeros(num_layers, batch_size, hidden_size)  # h0初始化为全零"
   ]
  },
  {
   "cell_type": "code",
   "execution_count": 12,
   "metadata": {},
   "outputs": [],
   "source": [
    "# 可以直接调用该cell函数，不用再写循环了\n",
    "out, hidden = cell(inputs, hidden)"
   ]
  },
  {
   "cell_type": "code",
   "execution_count": 13,
   "metadata": {},
   "outputs": [
    {
     "name": "stdout",
     "output_type": "stream",
     "text": [
      "Output size: torch.Size([3, 1, 2])\n",
      "Output: tensor([[[-0.8962, -0.6797]],\n",
      "\n",
      "        [[-0.8508,  0.5150]],\n",
      "\n",
      "        [[-0.6228, -0.2122]]], grad_fn=<StackBackward>)\n",
      "Hidden size:  torch.Size([1, 1, 2])\n",
      "Hidden:  tensor([[[-0.6228, -0.2122]]], grad_fn=<StackBackward>)\n"
     ]
    }
   ],
   "source": [
    "print('Output size:', out.shape) \n",
    "print('Output:', out) \n",
    "print('Hidden size: ', hidden.shape) \n",
    "print('Hidden: ', hidden)"
   ]
  }
 ],
 "metadata": {
  "kernelspec": {
   "display_name": "PyTorch",
   "language": "python",
   "name": "pytorch"
  },
  "language_info": {
   "codemirror_mode": {
    "name": "ipython",
    "version": 3
   },
   "file_extension": ".py",
   "mimetype": "text/x-python",
   "name": "python",
   "nbconvert_exporter": "python",
   "pygments_lexer": "ipython3",
   "version": "3.7.7"
  }
 },
 "nbformat": 4,
 "nbformat_minor": 4
}
