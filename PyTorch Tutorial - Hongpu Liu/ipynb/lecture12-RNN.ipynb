{
 "cells": [
  {
   "cell_type": "markdown",
   "metadata": {},
   "source": [
    "# RNN 循环神经网络\n",
    "![G16Wwy](https://gitee.com/pxqp9W/testmarkdown/raw/master/imgs/2020/07/G16Wwy.png)\n",
    "![ZND8NU](https://gitee.com/pxqp9W/testmarkdown/raw/master/imgs/2020/07/ZND8NU.png)\n",
    "![JwmD5h](https://gitee.com/pxqp9W/testmarkdown/raw/master/imgs/2020/07/JwmD5h.png)\n",
    "- [一文搞懂RNN（循环神经网络）基础篇 - 知乎](https://zhuanlan.zhihu.com/p/30844905)\n",
    "- [一文看懂循环神经网络RNN（2种优化算法+5个实际应用）](https://easyai.tech/ai-definition/rnn/)"
   ]
  },
  {
   "cell_type": "code",
   "execution_count": 10,
   "metadata": {},
   "outputs": [],
   "source": [
    "import torch"
   ]
  },
  {
   "cell_type": "code",
   "execution_count": 11,
   "metadata": {},
   "outputs": [],
   "source": [
    "# Parameters\n",
    "batch_size = 1\n",
    "seq_len = 3\n",
    "input_size = 4  # input_size 输入特征维数\n",
    "hidden_size = 2 # hidden_size 隐层状态的维数\n",
    "num_layers = 1 # num_layers RNN层的个数，在图中竖向的是层数，横向的是seq_len"
   ]
  },
  {
   "cell_type": "code",
   "execution_count": 12,
   "metadata": {},
   "outputs": [],
   "source": [
    "# 可以直接调用PyTorch中的RNN Cell函数\n",
    "cell = torch.nn.RNN(input_size=input_size, hidden_size=hidden_size, num_layers=num_layers)\n",
    "# (seq, batch, features)\n",
    "inputs = torch.randn(seq_len, batch_size, input_size) # 随机产生一组输入数据\n",
    "hidden = torch.zeros(num_layers, batch_size, hidden_size)  # h0初始化为全零"
   ]
  },
  {
   "cell_type": "markdown",
   "metadata": {},
   "source": [
    "## batch_first参数\n",
    "- 若将RNN函数的batch_first参数设置为true，则inputs中的第一个参数应为batch_size而不是seq_len\n",
    "![7Qy541](https://gitee.com/pxqp9W/testmarkdown/raw/master/imgs/2020/07/7Qy541.png)\n",
    "- batch_first:是否输入输出的第一维为batch_size，因为pytorch中batch_size维度默认是第二维度，故此选项可以将batch_size放在第一维度。\n",
    "- 如input是(4,1,5)，中间的1是batch_size，指定batch_first=True后就是(1,4,5)"
   ]
  },
  {
   "cell_type": "code",
   "execution_count": 13,
   "metadata": {},
   "outputs": [],
   "source": [
    "# 可以直接调用该cell函数，不用再写循环了\n",
    "out, hidden = cell(inputs, hidden)"
   ]
  },
  {
   "cell_type": "code",
   "execution_count": 14,
   "metadata": {},
   "outputs": [
    {
     "name": "stdout",
     "output_type": "stream",
     "text": [
      "Output size: torch.Size([3, 1, 2])\n",
      "Output: tensor([[[-0.5171,  0.4137]],\n",
      "\n",
      "        [[-0.9615,  0.5860]],\n",
      "\n",
      "        [[-0.9228,  0.5767]]], grad_fn=<StackBackward>)\n",
      "Hidden size:  torch.Size([1, 1, 2])\n",
      "Hidden:  tensor([[[-0.9228,  0.5767]]], grad_fn=<StackBackward>)\n"
     ]
    }
   ],
   "source": [
    "print('Output size:', out.shape) \n",
    "print('Output:', out) \n",
    "print('Hidden size: ', hidden.shape) \n",
    "print('Hidden: ', hidden)"
   ]
  }
 ],
 "metadata": {
  "kernelspec": {
   "display_name": "PyTorch",
   "language": "python",
   "name": "pytorch"
  },
  "language_info": {
   "codemirror_mode": {
    "name": "ipython",
    "version": 3
   },
   "file_extension": ".py",
   "mimetype": "text/x-python",
   "name": "python",
   "nbconvert_exporter": "python",
   "pygments_lexer": "ipython3",
   "version": "3.7.7"
  }
 },
 "nbformat": 4,
 "nbformat_minor": 4
}
