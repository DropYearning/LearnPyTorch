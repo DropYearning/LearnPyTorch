{
 "cells": [
  {
   "cell_type": "markdown",
   "metadata": {},
   "source": [
    "# RNN Cell\n",
    "![G16Wwy](https://gitee.com/pxqp9W/testmarkdown/raw/master/imgs/2020/07/G16Wwy.png)\n",
    "![ZND8NU](https://gitee.com/pxqp9W/testmarkdown/raw/master/imgs/2020/07/ZND8NU.png)\n",
    "- [一文搞懂RNN（循环神经网络）基础篇 - 知乎](https://zhuanlan.zhihu.com/p/30844905)\n",
    "- [一文看懂循环神经网络RNN（2种优化算法+5个实际应用）](https://easyai.tech/ai-definition/rnn/)"
   ]
  },
  {
   "cell_type": "code",
   "execution_count": 13,
   "metadata": {},
   "outputs": [],
   "source": [
    "import torch"
   ]
  },
  {
   "cell_type": "code",
   "execution_count": 14,
   "metadata": {},
   "outputs": [],
   "source": [
    "# Parameters\n",
    "batch_size = 1\n",
    "seq_len = 3\n",
    "input_size = 4 \n",
    "hidden_size = 2"
   ]
  },
  {
   "cell_type": "code",
   "execution_count": 15,
   "metadata": {},
   "outputs": [],
   "source": [
    "# 可以直接调用PyTorch中的RNN Cell函数\n",
    "cell = torch.nn.RNNCell(input_size=input_size, hidden_size=hidden_size)\n",
    "# (seq, batch, features)\n",
    "dataset = torch.randn(seq_len, batch_size, input_size) # 随机产生一组输入数据\n",
    "hidden = torch.zeros(batch_size, hidden_size)  # h0初始化为全零"
   ]
  },
  {
   "cell_type": "code",
   "execution_count": 16,
   "metadata": {},
   "outputs": [
    {
     "name": "stdout",
     "output_type": "stream",
     "text": [
      "==================== 0 ====================\n",
      "Input size:  torch.Size([1, 4])\n",
      "outputs size:  torch.Size([1, 2])\n",
      "tensor([[0.8024, 0.6569]], grad_fn=<TanhBackward>)\n",
      "==================== 1 ====================\n",
      "Input size:  torch.Size([1, 4])\n",
      "outputs size:  torch.Size([1, 2])\n",
      "tensor([[-0.5689,  0.0635]], grad_fn=<TanhBackward>)\n",
      "==================== 2 ====================\n",
      "Input size:  torch.Size([1, 4])\n",
      "outputs size:  torch.Size([1, 2])\n",
      "tensor([[0.2783, 0.1212]], grad_fn=<TanhBackward>)\n"
     ]
    }
   ],
   "source": [
    "# RNN的循环过程\n",
    "for idx, input in enumerate(dataset):\n",
    "    print('=' * 20, idx, '=' * 20) \n",
    "    print('Input size: ', input.shape) \n",
    "    \n",
    "    hidden = cell(input, hidden) # update hidden\n",
    "    \n",
    "    print('outputs size: ', hidden.shape) \n",
    "    print(hidden)"
   ]
  }
 ],
 "metadata": {
  "kernelspec": {
   "display_name": "PyTorch",
   "language": "python",
   "name": "pytorch"
  },
  "language_info": {
   "codemirror_mode": {
    "name": "ipython",
    "version": 3
   },
   "file_extension": ".py",
   "mimetype": "text/x-python",
   "name": "python",
   "nbconvert_exporter": "python",
   "pygments_lexer": "ipython3",
   "version": "3.7.7"
  }
 },
 "nbformat": 4,
 "nbformat_minor": 4
}
