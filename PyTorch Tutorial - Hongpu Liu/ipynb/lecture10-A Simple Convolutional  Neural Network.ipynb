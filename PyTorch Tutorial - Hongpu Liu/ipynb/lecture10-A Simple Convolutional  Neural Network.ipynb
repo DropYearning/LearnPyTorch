{
 "cells": [
  {
   "cell_type": "markdown",
   "metadata": {},
   "source": [
    "# A Simple Convolutional Neural Network\n",
    "![gChvH4](https://gitee.com/pxqp9W/testmarkdown/raw/master/imgs/2020/07/gChvH4.png)\n",
    "![VBcUKI](https://gitee.com/pxqp9W/testmarkdown/raw/master/imgs/2020/07/VBcUKI.png)"
   ]
  },
  {
   "cell_type": "code",
   "execution_count": 1,
   "metadata": {},
   "outputs": [],
   "source": [
    "import torch \n",
    "from torchvision import transforms \n",
    "from torchvision import datasets \n",
    "from torch.utils.data import DataLoader \n",
    "import torch.nn.functional as F \n",
    "import torch.optim as optim\n",
    "import time"
   ]
  },
  {
   "cell_type": "markdown",
   "metadata": {},
   "source": [
    "## 1、Prepare Dataset"
   ]
  },
  {
   "cell_type": "code",
   "execution_count": 2,
   "metadata": {},
   "outputs": [],
   "source": [
    "batch_size = 64\n",
    "\n",
    "## Convert the PIL Image to Tensor.\n",
    "transform = transforms.Compose([\n",
    "    transforms.ToTensor(), # 图像转变为ToTensor，取值变为0-1\n",
    "    transforms.Normalize((0.1307, ), (0.3081, )) \n",
    "    # 0.1307是均值mean, 0.3081是标准差std\n",
    "    # 这两个数是根据 MNIST数据集的特征得到的经验值\n",
    "])\n",
    "\n",
    "## 构造loader\n",
    "train_dataset = datasets.MNIST(root='./dataset/mnist/', \n",
    "                               train=True, \n",
    "                               download=True, \n",
    "                               transform=transform) # transform放入到了数据集中，这样每次取出来的数据都会直接做变换\n",
    "train_loader = DataLoader(train_dataset, \n",
    "                          shuffle=True, \n",
    "                          batch_size=batch_size)\n",
    "test_dataset = datasets.MNIST(root='./dataset/mnist/' , \n",
    "                              train=False, \n",
    "                              download=True, \n",
    "                              transform=transform)\n",
    "test_loader = DataLoader(test_dataset, \n",
    "                         shuffle=False, \n",
    "                         batch_size=batch_size)"
   ]
  },
  {
   "cell_type": "markdown",
   "metadata": {},
   "source": [
    "## 2、Design CNN Model "
   ]
  },
  {
   "cell_type": "code",
   "execution_count": 3,
   "metadata": {},
   "outputs": [],
   "source": [
    "class Net(torch.nn.Module):\n",
    "    def __init__(self):\n",
    "        super(Net, self).__init__() \n",
    "        self.conv1 = torch.nn.Conv2d(1, 10, kernel_size=5) \n",
    "        self.conv2 = torch.nn.Conv2d(10, 20, kernel_size=5) \n",
    "        self.pooling = torch.nn.MaxPool2d(2) \n",
    "        self.fc = torch.nn.Linear(320, 10)\n",
    "    \n",
    "    def forward(self, x):\n",
    "        # Flatten data from (n, 1, 28, 28) to (n, 784)\n",
    "        batch_size = x.size(0) \n",
    "        x = F.relu(self.pooling(self.conv1(x))) \n",
    "        x = F.relu(self.pooling(self.conv2(x)))\n",
    "        x = x.view(batch_size, -1) # flatten \n",
    "        x = self.fc(x)  # 因为后面要用PyTorch的交叉熵函数，因此最后一层不做激活\n",
    "        return x\n",
    "    \n",
    "model = Net()"
   ]
  },
  {
   "cell_type": "markdown",
   "metadata": {},
   "source": [
    "## 3、Construct Loss and Optimizer"
   ]
  },
  {
   "cell_type": "code",
   "execution_count": 4,
   "metadata": {},
   "outputs": [],
   "source": [
    "criterion = torch.nn.CrossEntropyLoss() \n",
    "optimizer = optim.SGD(model.parameters(), lr=0.01, momentum=0.5) # momentum表示动量"
   ]
  },
  {
   "cell_type": "markdown",
   "metadata": {},
   "source": [
    "## 4、Train & Test"
   ]
  },
  {
   "cell_type": "code",
   "execution_count": 5,
   "metadata": {},
   "outputs": [],
   "source": [
    "## 将训练过程封装到函数\n",
    "def train(epoch):\n",
    "    running_loss = 0.0\n",
    "    for batch_idx, data in enumerate(train_loader, 0):\n",
    "        inputs, target = data \n",
    "        optimizer.zero_grad()\n",
    "        \n",
    "        # forward + backward + update\n",
    "        outputs = model(inputs) \n",
    "        loss = criterion(outputs, target) \n",
    "        loss.backward() \n",
    "        optimizer.step()\n",
    "        running_loss += loss.item() \n",
    "        \n",
    "        if batch_idx % 300 == 299: \n",
    "            print('[%d, %5d] loss: %.3f' % (epoch + 1, batch_idx + 1, running_loss / 300)) \n",
    "            running_loss = 0.0"
   ]
  },
  {
   "cell_type": "code",
   "execution_count": 6,
   "metadata": {},
   "outputs": [],
   "source": [
    "## 将测试过程也封装为函数\n",
    "def test():\n",
    "    correct = 0 \n",
    "    total = 0\n",
    "    with torch.no_grad(): # Test过程中不需要计算梯度，可以使用“with torch.no_grad()”\n",
    "        for data in test_loader:\n",
    "            images, labels = data \n",
    "            outputs = model(images) \n",
    "            _, predicted = torch.max(outputs.data, dim=1) # torch.max用来找行中的最大值所在下标 dim1表示沿着第1个维度找（行是第0个维度，列是第1个维度）\n",
    "            total += labels.size(0) # labels是一个N*1的向量，取size()得到的是元组(N,1),size(0)返回的是N\n",
    "            correct += (predicted == labels).sum().item() # 预测正确的数量，predicted == labels进行的是张量之间的比较运算\n",
    "    print('Accuracy on test set: %d %%' % (100 * correct / total))"
   ]
  },
  {
   "cell_type": "markdown",
   "metadata": {},
   "source": [
    "## Main Function"
   ]
  },
  {
   "cell_type": "code",
   "execution_count": 7,
   "metadata": {},
   "outputs": [
    {
     "name": "stdout",
     "output_type": "stream",
     "text": [
      "[1,   300] loss: 0.639\n",
      "[1,   600] loss: 0.194\n",
      "[1,   900] loss: 0.141\n",
      "Accuracy on test set: 96 %\n",
      "[2,   300] loss: 0.106\n",
      "[2,   600] loss: 0.099\n",
      "[2,   900] loss: 0.094\n",
      "Accuracy on test set: 98 %\n",
      "[3,   300] loss: 0.077\n",
      "[3,   600] loss: 0.075\n",
      "[3,   900] loss: 0.075\n",
      "Accuracy on test set: 98 %\n",
      "[4,   300] loss: 0.061\n",
      "[4,   600] loss: 0.063\n",
      "[4,   900] loss: 0.065\n",
      "Accuracy on test set: 98 %\n",
      "[5,   300] loss: 0.052\n",
      "[5,   600] loss: 0.056\n",
      "[5,   900] loss: 0.060\n",
      "Accuracy on test set: 98 %\n",
      "[6,   300] loss: 0.049\n",
      "[6,   600] loss: 0.050\n",
      "[6,   900] loss: 0.049\n",
      "Accuracy on test set: 98 %\n",
      "[7,   300] loss: 0.048\n",
      "[7,   600] loss: 0.042\n",
      "[7,   900] loss: 0.047\n",
      "Accuracy on test set: 98 %\n",
      "[8,   300] loss: 0.043\n",
      "[8,   600] loss: 0.046\n",
      "[8,   900] loss: 0.040\n",
      "Accuracy on test set: 98 %\n",
      "[9,   300] loss: 0.036\n",
      "[9,   600] loss: 0.041\n",
      "[9,   900] loss: 0.041\n",
      "Accuracy on test set: 98 %\n",
      "[10,   300] loss: 0.038\n",
      "[10,   600] loss: 0.038\n",
      "[10,   900] loss: 0.036\n",
      "Accuracy on test set: 98 %\n",
      "Total time:  119.91048622131348 s\n"
     ]
    }
   ],
   "source": [
    "if __name__ == '__main__':\n",
    "    start = time.time()\n",
    "    for epoch in range(10):\n",
    "        train(epoch) \n",
    "        test()\n",
    "    end = time.time()\n",
    "    print(\"Total time: \", end - start , \"s\")"
   ]
  }
 ],
 "metadata": {
  "kernelspec": {
   "display_name": "PyTorch",
   "language": "python",
   "name": "pytorch"
  },
  "language_info": {
   "codemirror_mode": {
    "name": "ipython",
    "version": 3
   },
   "file_extension": ".py",
   "mimetype": "text/x-python",
   "name": "python",
   "nbconvert_exporter": "python",
   "pygments_lexer": "ipython3",
   "version": "3.7.7"
  }
 },
 "nbformat": 4,
 "nbformat_minor": 4
}
