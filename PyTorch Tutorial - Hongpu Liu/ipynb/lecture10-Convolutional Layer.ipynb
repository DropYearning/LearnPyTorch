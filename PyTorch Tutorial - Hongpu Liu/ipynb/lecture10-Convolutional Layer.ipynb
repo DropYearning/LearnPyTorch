{
 "cells": [
  {
   "cell_type": "code",
   "execution_count": 1,
   "metadata": {},
   "outputs": [],
   "source": [
    "import torch "
   ]
  },
  {
   "cell_type": "code",
   "execution_count": 2,
   "metadata": {},
   "outputs": [
    {
     "name": "stdout",
     "output_type": "stream",
     "text": [
      "torch.Size([1, 5, 100, 100])\n",
      "torch.Size([1, 10, 98, 98])\n",
      "torch.Size([10, 5, 3, 3])\n"
     ]
    }
   ],
   "source": [
    "in_channels, out_channels= 5, 10 \n",
    "width, height = 100, 100 \n",
    "kernel_size = 3 \n",
    "batch_size = 1\n",
    "\n",
    "input = torch.randn(batch_size,in_channels, width, height)\n",
    "# torch.randn(*sizes, out=None):返回一个张量，包含了从标准正态分布(均值为0，方差为 1，即高斯白噪声)中抽取一组随机数，形状由可变参数sizes定义。 参数:\n",
    "conv_layer = torch.nn.Conv2d(in_channels,out_channels, kernel_size=kernel_size)\n",
    "output = conv_layer(input)\n",
    "\n",
    "print(input.shape) \n",
    "print(output.shape)\n",
    "print(conv_layer.weight.shape) # (m:output chanels, n:input chanels, kernel_width, kernel_height)"
   ]
  },
  {
   "cell_type": "markdown",
   "metadata": {},
   "source": [
    "![5ceDgj](https://gitee.com/pxqp9W/testmarkdown/raw/master/imgs/2020/07/5ceDgj.png)"
   ]
  },
  {
   "cell_type": "markdown",
   "metadata": {},
   "source": [
    "## Padding：边缘填充\n",
    "![9vQgMx](https://gitee.com/pxqp9W/testmarkdown/raw/master/imgs/2020/07/9vQgMx.png)"
   ]
  },
  {
   "cell_type": "code",
   "execution_count": 3,
   "metadata": {},
   "outputs": [
    {
     "name": "stdout",
     "output_type": "stream",
     "text": [
      "tensor([[[[ 91., 168., 224., 215., 127.],\n",
      "          [114., 211., 295., 262., 149.],\n",
      "          [192., 259., 282., 214., 122.],\n",
      "          [194., 251., 253., 169.,  86.],\n",
      "          [ 96., 112., 110.,  68.,  31.]]]],\n",
      "       grad_fn=<MkldnnConvolutionBackward>)\n"
     ]
    }
   ],
   "source": [
    "input = [3,4,6,5,7, 2,4,6,8,2, 1,6,7,8,4, 9,7,4,6,2, 3,7,5,4,1]\n",
    "input = torch.Tensor(input).view(1, 1, 5, 5) # input -> (B,C,W,H)形状的tensor\n",
    "conv_layer = torch.nn.Conv2d(1, 1, kernel_size=3, padding=1, bias=False)\n",
    "#  # (m:output chanels, n:input chanels, kernel_width, kernel_height)\n",
    "kernel = torch.Tensor([1,2,3,4,5,6,7,8,9]).view(1, 1, 3, 3)  # -> (output Channel, input Channel, weight, height)\n",
    "conv_layer.weight.data = kernel.data # 将kernel作为卷积层的权重\n",
    "output = conv_layer(input) \n",
    "print(output)"
   ]
  },
  {
   "cell_type": "markdown",
   "metadata": {},
   "source": [
    "## Stride：步长\n",
    "![EXRwI6](https://gitee.com/pxqp9W/testmarkdown/raw/master/imgs/2020/07/EXRwI6.png)\n",
    "- 卷积过程中，有时需要通过padding来避免信息损失，有时也要在卷积时通过设置的步长（Stride）来压缩一部分信息，或者使输出的尺寸小于输入的尺寸。"
   ]
  },
  {
   "cell_type": "code",
   "execution_count": 5,
   "metadata": {},
   "outputs": [
    {
     "name": "stdout",
     "output_type": "stream",
     "text": [
      "tensor([[[[211., 262.],\n",
      "          [251., 169.]]]], grad_fn=<MkldnnConvolutionBackward>)\n"
     ]
    }
   ],
   "source": [
    "input = [3,4,6,5,7, 2,4,6,8,2, 1,6,7,8,4, 9,7,4,6,2, 3,7,5,4,1]\n",
    "input = torch.Tensor(input).view(1, 1, 5, 5) # input -> (B,C,W,H)形状的tensor\n",
    "conv_layer = torch.nn.Conv2d(1, 1, kernel_size=3, stride=2, bias=False) # 设置步长为2\n",
    "#  # (m:output chanels, n:input chanels, kernel_width, kernel_height)\n",
    "kernel = torch.Tensor([1,2,3,4,5,6,7,8,9]).view(1, 1, 3, 3)  # -> (output Channel, input Channel, weight, height)\n",
    "conv_layer.weight.data = kernel.data # 将kernel作为卷积层的权重\n",
    "output = conv_layer(input) \n",
    "print(output)"
   ]
  },
  {
   "cell_type": "markdown",
   "metadata": {},
   "source": [
    "## Subsampling：Max Pooling\n",
    "![Sw3MGX](https://gitee.com/pxqp9W/testmarkdown/raw/master/imgs/2020/07/Sw3MGX.png)\n",
    "- 缩小图像（或称为下采样（subsampled）或降采样（downsampled））的主要目的\n",
    "- [CNN中Max Pooling的作用_XingLiu's Blog-CSDN博客_max-pooling](https://blog.csdn.net/pangjiuzala/article/details/71840947)"
   ]
  },
  {
   "cell_type": "code",
   "execution_count": 6,
   "metadata": {},
   "outputs": [
    {
     "name": "stdout",
     "output_type": "stream",
     "text": [
      "tensor([[[[4., 8.],\n",
      "          [9., 8.]]]])\n"
     ]
    }
   ],
   "source": [
    "input = [3,4,6,5,\n",
    "         2,4,6,8,\n",
    "         1,6,7,8,\n",
    "         9,7,4,6, ]\n",
    "input = torch.Tensor(input).view(1, 1, 4, 4)\n",
    "maxpooling_layer = torch.nn.MaxPool2d(kernel_size=2) # 默认stride = 2\n",
    "output = maxpooling_layer(input)\n",
    "print(output)"
   ]
  },
  {
   "cell_type": "markdown",
   "metadata": {},
   "source": [
    "## A Simple Convolutional Neural Network\n"
   ]
  }
 ],
 "metadata": {
  "kernelspec": {
   "display_name": "PyTorch",
   "language": "python",
   "name": "pytorch"
  },
  "language_info": {
   "codemirror_mode": {
    "name": "ipython",
    "version": 3
   },
   "file_extension": ".py",
   "mimetype": "text/x-python",
   "name": "python",
   "nbconvert_exporter": "python",
   "pygments_lexer": "ipython3",
   "version": "3.7.7"
  }
 },
 "nbformat": 4,
 "nbformat_minor": 4
}
