{
 "cells": [
  {
   "cell_type": "code",
   "execution_count": 1,
   "metadata": {},
   "outputs": [],
   "source": [
    "import torch"
   ]
  },
  {
   "cell_type": "code",
   "execution_count": 2,
   "metadata": {},
   "outputs": [
    {
     "data": {
      "text/plain": [
       "True"
      ]
     },
     "execution_count": 2,
     "metadata": {},
     "output_type": "execute_result"
    }
   ],
   "source": [
    "# 查看cuda状态\n",
    "torch.cuda.is_available()"
   ]
  },
  {
   "cell_type": "code",
   "execution_count": 3,
   "metadata": {},
   "outputs": [
    {
     "name": "stdout",
     "output_type": "stream",
     "text": [
      "1.5.1\n"
     ]
    }
   ],
   "source": [
    "# 查看torch版本\n",
    "print(torch.__version__) "
   ]
  },
  {
   "cell_type": "code",
   "execution_count": 4,
   "metadata": {},
   "outputs": [
    {
     "data": {
      "text/plain": [
       "1"
      ]
     },
     "execution_count": 4,
     "metadata": {},
     "output_type": "execute_result"
    }
   ],
   "source": [
    "# 返回gpu数量\n",
    "torch.cuda.device_count()"
   ]
  },
  {
   "cell_type": "code",
   "execution_count": 5,
   "metadata": {},
   "outputs": [
    {
     "data": {
      "text/plain": [
       "'GeForce GTX 1650'"
      ]
     },
     "execution_count": 5,
     "metadata": {},
     "output_type": "execute_result"
    }
   ],
   "source": [
    "# 返回gpu名字，设备索引默认从0开始；\n",
    "torch.cuda.get_device_name(0)"
   ]
  },
  {
   "cell_type": "code",
   "execution_count": 6,
   "metadata": {},
   "outputs": [
    {
     "name": "stdout",
     "output_type": "stream",
     "text": [
      "/home/mastlabzl/Programs/miniconda3/bin/python\n"
     ]
    }
   ],
   "source": [
    "!which python"
   ]
  },
  {
   "cell_type": "code",
   "execution_count": 7,
   "metadata": {},
   "outputs": [
    {
     "name": "stdout",
     "output_type": "stream",
     "text": [
      "# packages in environment at /home/mastlabzl/Programs/miniconda3:\n",
      "#\n",
      "# Name                    Version                   Build  Channel\n",
      "_libgcc_mutex             0.1                        main    defaults\n",
      "attrs                     19.3.0                     py_0    conda-forge\n",
      "backcall                  0.2.0              pyh9f0ad1d_0    conda-forge\n",
      "bleach                    3.1.5              pyh9f0ad1d_0    conda-forge\n",
      "ca-certificates           2020.6.20            hecda079_0    conda-forge\n",
      "certifi                   2020.6.20        py37hc8dfbb8_0    conda-forge\n",
      "cffi                      1.14.0           py37he30daa8_1    defaults\n",
      "chardet                   3.0.4                 py37_1003    defaults\n",
      "conda                     4.8.3            py37hc8dfbb8_1    conda-forge\n",
      "conda-package-handling    1.6.1            py37h7b6447c_0    defaults\n",
      "cryptography              2.9.2            py37h1ba5d50_0    defaults\n",
      "decorator                 4.4.2                      py_0    conda-forge\n",
      "defusedxml                0.6.0                      py_0    conda-forge\n",
      "entrypoints               0.3             py37hc8dfbb8_1001    conda-forge\n",
      "idna                      2.9                        py_1    defaults\n",
      "importlib-metadata        1.7.0            py37hc8dfbb8_0    conda-forge\n",
      "importlib_metadata        1.7.0                         0    conda-forge\n",
      "ipykernel                 5.3.4            py37h43977f1_0    conda-forge\n",
      "ipython                   7.16.1           py37h43977f1_0    conda-forge\n",
      "ipython_genutils          0.2.0                      py_1    conda-forge\n",
      "jedi                      0.17.2           py37hc8dfbb8_0    conda-forge\n",
      "jinja2                    2.11.2             pyh9f0ad1d_0    conda-forge\n",
      "json5                     0.9.4              pyh9f0ad1d_0    conda-forge\n",
      "jsonschema                3.2.0            py37hc8dfbb8_1    conda-forge\n",
      "jupyter_client            6.1.6                      py_0    conda-forge\n",
      "jupyter_core              4.6.3            py37hc8dfbb8_1    conda-forge\n",
      "jupyterlab                2.2.0                      py_0    conda-forge\n",
      "jupyterlab_server         1.2.0                      py_0    conda-forge\n",
      "ld_impl_linux-64          2.33.1               h53a641e_7    defaults\n",
      "libedit                   3.1.20181209         hc058e9b_0    defaults\n",
      "libffi                    3.3                  he6710b0_1    defaults\n",
      "libgcc-ng                 9.1.0                hdf63c60_0    defaults\n",
      "libsodium                 1.0.17               h516909a_0    conda-forge\n",
      "libstdcxx-ng              9.1.0                hdf63c60_0    defaults\n",
      "markupsafe                1.1.1            py37h8f50634_1    conda-forge\n",
      "mistune                   0.8.4           py37h8f50634_1001    conda-forge\n",
      "nbconvert                 5.6.1            py37hc8dfbb8_1    conda-forge\n",
      "nbformat                  5.0.7                      py_0    conda-forge\n",
      "ncurses                   6.2                  he6710b0_1    defaults\n",
      "notebook                  6.0.3            py37hc8dfbb8_1    conda-forge\n",
      "openssl                   1.1.1g               h516909a_0    conda-forge\n",
      "packaging                 20.4               pyh9f0ad1d_0    conda-forge\n",
      "pandoc                    2.10.1               h516909a_0    conda-forge\n",
      "pandocfilters             1.4.2                      py_1    conda-forge\n",
      "parso                     0.7.1              pyh9f0ad1d_0    conda-forge\n",
      "pexpect                   4.8.0            py37hc8dfbb8_1    conda-forge\n",
      "pickleshare               0.7.5           py37hc8dfbb8_1001    conda-forge\n",
      "pip                       20.0.2                   py37_3    defaults\n",
      "prometheus_client         0.8.0              pyh9f0ad1d_0    conda-forge\n",
      "prompt-toolkit            3.0.5                      py_1    conda-forge\n",
      "ptyprocess                0.6.0                   py_1001    conda-forge\n",
      "pycosat                   0.6.3            py37h7b6447c_0    defaults\n",
      "pycparser                 2.20                       py_0    defaults\n",
      "pygments                  2.6.1                      py_0    conda-forge\n",
      "pyopenssl                 19.1.0                   py37_0    defaults\n",
      "pyparsing                 2.4.7              pyh9f0ad1d_0    conda-forge\n",
      "pyrsistent                0.16.0           py37h8f50634_0    conda-forge\n",
      "pysocks                   1.7.1                    py37_0    defaults\n",
      "python                    3.7.7                hcff3b4d_5    defaults\n",
      "python-dateutil           2.8.1                      py_0    conda-forge\n",
      "python_abi                3.7                     1_cp37m    conda-forge\n",
      "pyzmq                     19.0.1           py37hac76be4_0    conda-forge\n",
      "readline                  8.0                  h7b6447c_0    defaults\n",
      "requests                  2.23.0                   py37_0    defaults\n",
      "ruamel_yaml               0.15.87          py37h7b6447c_0    defaults\n",
      "send2trash                1.5.0                      py_0    conda-forge\n",
      "setuptools                46.4.0                   py37_0    defaults\n",
      "six                       1.14.0                   py37_0    defaults\n",
      "sqlite                    3.31.1               h62c20be_1    defaults\n",
      "terminado                 0.8.3            py37hc8dfbb8_1    conda-forge\n",
      "testpath                  0.4.4                      py_0    conda-forge\n",
      "tk                        8.6.8                hbc83047_0    defaults\n",
      "tornado                   6.0.4            py37h8f50634_1    conda-forge\n",
      "tqdm                      4.46.0                     py_0    defaults\n",
      "traitlets                 4.3.3            py37hc8dfbb8_1    conda-forge\n",
      "urllib3                   1.25.8                   py37_0    defaults\n",
      "wcwidth                   0.2.5              pyh9f0ad1d_0    conda-forge\n",
      "webencodings              0.5.1                      py_1    conda-forge\n",
      "wheel                     0.34.2                   py37_0    defaults\n",
      "xz                        5.2.5                h7b6447c_0    defaults\n",
      "yaml                      0.1.7                had09818_2    defaults\n",
      "zeromq                    4.3.2                he1b5a44_2    conda-forge\n",
      "zipp                      3.1.0                      py_0    conda-forge\n",
      "zlib                      1.2.11               h7b6447c_3    defaults\n"
     ]
    }
   ],
   "source": [
    "!conda list"
   ]
  },
  {
   "cell_type": "code",
   "execution_count": null,
   "metadata": {},
   "outputs": [],
   "source": []
  }
 ],
 "metadata": {
  "kernelspec": {
   "display_name": "PyTorch",
   "language": "python",
   "name": "pytorch"
  },
  "language_info": {
   "codemirror_mode": {
    "name": "ipython",
    "version": 3
   },
   "file_extension": ".py",
   "mimetype": "text/x-python",
   "name": "python",
   "nbconvert_exporter": "python",
   "pygments_lexer": "ipython3",
   "version": "3.7.7"
  }
 },
 "nbformat": 4,
 "nbformat_minor": 4
}
