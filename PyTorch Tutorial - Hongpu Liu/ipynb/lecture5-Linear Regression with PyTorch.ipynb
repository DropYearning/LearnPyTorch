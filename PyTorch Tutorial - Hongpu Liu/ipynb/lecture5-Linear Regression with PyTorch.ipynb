{
 "cells": [
  {
   "cell_type": "code",
   "execution_count": 52,
   "metadata": {},
   "outputs": [],
   "source": [
    "import torch\n",
    "import matplotlib.pyplot as plt"
   ]
  },
  {
   "cell_type": "code",
   "execution_count": 53,
   "metadata": {},
   "outputs": [],
   "source": [
    "# Prepare dataset\n",
    "x_data = torch.Tensor([[1.0], [2.0], [3.0]]) \n",
    "y_data = torch.Tensor([[2.0], [4.0], [6.0]])"
   ]
  },
  {
   "cell_type": "code",
   "execution_count": 54,
   "metadata": {},
   "outputs": [],
   "source": [
    "# Design model using Class nherit from nn.Module\n",
    "class LinearModel(torch.nn.Module):\n",
    "    def __init__(self):\n",
    "        super(LinearModel, self).__init__() \n",
    "        self.linear = torch.nn.Linear(1, 1) \n",
    "        # Class nn.Linear has implemented the magic method __call__(), \n",
    "        # which enable the instance of the class can be called just like a function.\n",
    "    def forward(self, x):\n",
    "        y_pred = self.linear(x)  # Normally the forward() will be called.\n",
    "        return y_pred"
   ]
  },
  {
   "cell_type": "code",
   "execution_count": 55,
   "metadata": {},
   "outputs": [],
   "source": [
    "model = LinearModel() # 实例化一个callable对象"
   ]
  },
  {
   "cell_type": "code",
   "execution_count": 56,
   "metadata": {},
   "outputs": [],
   "source": [
    "# Construct loss and optimizer using PyTorch API\n",
    "criterion = torch.nn.MSELoss(size_average=False) \n",
    "optimizer = torch.optim.SGD(model.parameters(), lr=0.01)"
   ]
  },
  {
   "cell_type": "code",
   "execution_count": 57,
   "metadata": {},
   "outputs": [],
   "source": [
    "# 保存到list方便作图\n",
    "epoch_list = []\n",
    "loss_list = []"
   ]
  },
  {
   "cell_type": "code",
   "execution_count": 58,
   "metadata": {},
   "outputs": [
    {
     "name": "stdout",
     "output_type": "stream",
     "text": [
      "0 110.15943908691406\n",
      "1 49.22698974609375\n",
      "2 22.098907470703125\n",
      "3 10.019604682922363\n",
      "4 4.639631271362305\n",
      "5 2.2420425415039062\n",
      "6 1.1721676588058472\n",
      "7 0.6933871507644653\n",
      "8 0.4777822494506836\n",
      "9 0.37937113642692566\n",
      "10 0.3331657648086548\n",
      "11 0.3102349638938904\n",
      "12 0.29770034551620483\n",
      "13 0.28982657194137573\n",
      "14 0.284060537815094\n",
      "15 0.27926570177078247\n",
      "16 0.2749350965023041\n",
      "17 0.2708425521850586\n",
      "18 0.2668873071670532\n",
      "19 0.2630234956741333\n",
      "20 0.2592312693595886\n",
      "21 0.2554999887943268\n",
      "22 0.25182557106018066\n",
      "23 0.24820521473884583\n",
      "24 0.24463778734207153\n",
      "25 0.24112188816070557\n",
      "26 0.23765644431114197\n",
      "27 0.23424062132835388\n",
      "28 0.2308741807937622\n",
      "29 0.2275562882423401\n",
      "30 0.22428590059280396\n",
      "31 0.2210625559091568\n",
      "32 0.2178855985403061\n",
      "33 0.2147543579339981\n",
      "34 0.2116679549217224\n",
      "35 0.2086258977651596\n",
      "36 0.20562739670276642\n",
      "37 0.2026723027229309\n",
      "38 0.1997595727443695\n",
      "39 0.19688887894153595\n",
      "40 0.19405905902385712\n",
      "41 0.19127027690410614\n",
      "42 0.1885216236114502\n",
      "43 0.18581214547157288\n",
      "44 0.18314164876937866\n",
      "45 0.18050973117351532\n",
      "46 0.1779152750968933\n",
      "47 0.17535853385925293\n",
      "48 0.17283818125724792\n",
      "49 0.17035439610481262\n",
      "50 0.1679059863090515\n",
      "51 0.16549286246299744\n",
      "52 0.1631145477294922\n",
      "53 0.16077034175395966\n",
      "54 0.1584596484899521\n",
      "55 0.15618258714675903\n",
      "56 0.15393799543380737\n",
      "57 0.15172535181045532\n",
      "58 0.1495451182126999\n",
      "59 0.14739598333835602\n",
      "60 0.14527744054794312\n",
      "61 0.14318963885307312\n",
      "62 0.1411319077014923\n",
      "63 0.13910360634326935\n",
      "64 0.13710442185401917\n",
      "65 0.1351338028907776\n",
      "66 0.13319191336631775\n",
      "67 0.13127776980400085\n",
      "68 0.12939104437828064\n",
      "69 0.12753146886825562\n",
      "70 0.12569859623908997\n",
      "71 0.1238921582698822\n",
      "72 0.12211155891418457\n",
      "73 0.12035662680864334\n",
      "74 0.11862680315971375\n",
      "75 0.11692219972610474\n",
      "76 0.11524186283349991\n",
      "77 0.11358566582202911\n",
      "78 0.11195307970046997\n",
      "79 0.11034419387578964\n",
      "80 0.10875818878412247\n",
      "81 0.10719524323940277\n",
      "82 0.10565492510795593\n",
      "83 0.10413628071546555\n",
      "84 0.1026398241519928\n",
      "85 0.10116464644670486\n",
      "86 0.0997108444571495\n",
      "87 0.098277747631073\n",
      "88 0.09686541557312012\n",
      "89 0.09547322988510132\n",
      "90 0.09410117566585541\n",
      "91 0.09274867177009583\n",
      "92 0.09141582250595093\n",
      "93 0.09010201692581177\n",
      "94 0.08880728483200073\n",
      "95 0.08753079175949097\n",
      "96 0.08627289533615112\n",
      "97 0.08503294736146927\n",
      "98 0.08381085097789764\n",
      "99 0.08260640501976013\n",
      "w =  1.8086628913879395\n",
      "b =  0.4349539279937744\n"
     ]
    }
   ],
   "source": [
    "# Training cycle\n",
    "for epoch in range(100):\n",
    "    epoch_list.append(epoch)\n",
    "    # forward\n",
    "    y_pred = model(x_data) # 实际上调用的是LinearModel.forward()函数\n",
    "    loss = criterion(y_pred, y_data) \n",
    "    loss_list.append(loss.item())\n",
    "    print(epoch, loss.item())\n",
    "    # 在backward前将权重清零\n",
    "    optimizer.zero_grad() \n",
    "    # backward\n",
    "    loss.backward() \n",
    "    # update\n",
    "    optimizer.step()\n",
    "print('w = ', model.linear.weight.item()) \n",
    "print('b = ', model.linear.bias.item())"
   ]
  },
  {
   "cell_type": "code",
   "execution_count": 59,
   "metadata": {},
   "outputs": [
    {
     "name": "stdout",
     "output_type": "stream",
     "text": [
      "y_pred =  7.669605255126953\n"
     ]
    }
   ],
   "source": [
    "x_test = torch.Tensor([[4.0]])\n",
    "y_test = model(x_test) \n",
    "print('y_pred = ', y_test.item())"
   ]
  },
  {
   "cell_type": "code",
   "execution_count": 60,
   "metadata": {},
   "outputs": [
    {
     "data": {
      "image/png": "[encoded data removed]",
      "text/plain": [
       "<Figure size 432x288 with 1 Axes>"
      ]
     },
     "metadata": {
      "needs_background": "light"
     },
     "output_type": "display_data"
    }
   ],
   "source": [
    "# plot\n",
    "plt.plot(epoch_list, loss_list) \n",
    "plt.xlabel('epoch') \n",
    "plt.ylabel('loss')\n",
    "plt.show()"
   ]
  }
 ],
 "metadata": {
  "kernelspec": {
   "display_name": "PyTorch",
   "language": "python",
   "name": "pytorch"
  },
  "language_info": {
   "codemirror_mode": {
    "name": "ipython",
    "version": 3
   },
   "file_extension": ".py",
   "mimetype": "text/x-python",
   "name": "python",
   "nbconvert_exporter": "python",
   "pygments_lexer": "ipython3",
   "version": "3.7.7"
  }
 },
 "nbformat": 4,
 "nbformat_minor": 4
}
