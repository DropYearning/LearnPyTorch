{
 "cells": [
  {
   "cell_type": "code",
   "execution_count": 112,
   "metadata": {},
   "outputs": [],
   "source": [
    "import torch\n",
    "import torch.nn.functional as F\n",
    "import numpy as np\n",
    "import matplotlib.pyplot as plt"
   ]
  },
  {
   "cell_type": "markdown",
   "metadata": {},
   "source": [
    "## 基本框架\n",
    "![title](pic/Snipaste_2020-07-28_11-00-40.jpg)\n"
   ]
  },
  {
   "cell_type": "code",
   "execution_count": 113,
   "metadata": {},
   "outputs": [],
   "source": [
    "# Prepare dataset\n",
    "x_data = torch.Tensor([[1.0], [2.0], [3.0]]) \n",
    "y_data = torch.Tensor([[0], [0], [1]])"
   ]
  },
  {
   "cell_type": "code",
   "execution_count": 114,
   "metadata": {},
   "outputs": [],
   "source": [
    "# Design model using Class nherit from nn.Module\n",
    "class LogisticRegressionModel(torch.nn.Module):\n",
    "    def __init__(self):\n",
    "        super(LogisticRegressionModel, self).__init__() \n",
    "        self.linear = torch.nn.Linear(1, 1) \n",
    "        # Class nn.Linear has implemented the magic method __call__(), \n",
    "        # which enable the instance of the class can be called just like a function.\n",
    "    def forward(self, x):\n",
    "        # sigmoid函数没有额外的参数，不需要训练，只需要在每次predict的时候直接掉用就行了\n",
    "        y_pred = F.sigmoid(self.linear(x))  # Normally the forward() will be called.\n",
    "        return y_pred"
   ]
  },
  {
   "cell_type": "code",
   "execution_count": 115,
   "metadata": {},
   "outputs": [],
   "source": [
    "model = LogisticRegressionModel() # 实例化一个callable对象"
   ]
  },
  {
   "cell_type": "code",
   "execution_count": 116,
   "metadata": {},
   "outputs": [
    {
     "name": "stderr",
     "output_type": "stream",
     "text": [
      "/home/mastlabzl/Programs/miniconda3/envs/PyTorch/lib/python3.7/site-packages/torch/nn/_reduction.py:43: UserWarning: size_average and reduce args will be deprecated, please use reduction='sum' instead.\n",
      "  warnings.warn(warning.format(ret))\n"
     ]
    }
   ],
   "source": [
    "# Construct loss and optimizer using PyTorch API\n",
    "criterion = torch.nn.BCELoss(size_average=False) # Logistic Regression使用BCE作为损失函数\n",
    "optimizer = torch.optim.SGD(model.parameters(), lr=0.05)"
   ]
  },
  {
   "cell_type": "code",
   "execution_count": 117,
   "metadata": {},
   "outputs": [],
   "source": [
    "# 保存到list方便作图\n",
    "epoch_list = []\n",
    "loss_list = []"
   ]
  },
  {
   "cell_type": "code",
   "execution_count": 118,
   "metadata": {},
   "outputs": [
    {
     "name": "stdout",
     "output_type": "stream",
     "text": [
      "0 2.7577226161956787\n",
      "1 2.5130226612091064\n",
      "2 2.326585054397583\n",
      "3 2.1901116371154785\n",
      "4 2.093143939971924\n",
      "5 2.025336742401123\n",
      "6 1.9779372215270996\n",
      "7 1.9442873001098633\n",
      "8 1.9196698665618896\n",
      "9 1.9008970260620117\n",
      "10 1.8858758211135864\n",
      "11 1.8732571601867676\n",
      "12 1.8621814250946045\n",
      "13 1.852104902267456\n",
      "14 1.8426830768585205\n",
      "15 1.833700180053711\n",
      "16 1.8250195980072021\n",
      "17 1.8165560960769653\n",
      "18 1.8082547187805176\n",
      "19 1.8000813722610474\n",
      "20 1.7920143604278564\n",
      "21 1.7840396165847778\n",
      "22 1.7761482000350952\n",
      "23 1.7683340311050415\n",
      "24 1.7605934143066406\n",
      "25 1.7529230117797852\n",
      "26 1.74532151222229\n",
      "27 1.7377872467041016\n",
      "28 1.730318307876587\n",
      "29 1.7229149341583252\n",
      "30 1.7155752182006836\n",
      "31 1.708298921585083\n",
      "32 1.7010849714279175\n",
      "33 1.6939330101013184\n",
      "34 1.6868419647216797\n",
      "35 1.6798115968704224\n",
      "36 1.67284095287323\n",
      "37 1.6659296751022339\n",
      "38 1.6590766906738281\n",
      "39 1.6522822380065918\n",
      "40 1.645544409751892\n",
      "41 1.6388638019561768\n",
      "42 1.6322392225265503\n",
      "43 1.6256701946258545\n",
      "44 1.6191561222076416\n",
      "45 1.612696647644043\n",
      "46 1.6062909364700317\n",
      "47 1.5999383926391602\n",
      "48 1.5936384201049805\n",
      "49 1.587390661239624\n",
      "50 1.5811947584152222\n",
      "51 1.575049638748169\n",
      "52 1.5689551830291748\n",
      "53 1.562910556793213\n",
      "54 1.556915283203125\n",
      "55 1.550969123840332\n",
      "56 1.5450716018676758\n",
      "57 1.5392217636108398\n",
      "58 1.5334193706512451\n",
      "59 1.5276637077331543\n",
      "60 1.5219545364379883\n",
      "61 1.5162913799285889\n",
      "62 1.5106737613677979\n",
      "63 1.5051008462905884\n",
      "64 1.4995726346969604\n",
      "65 1.4940884113311768\n",
      "66 1.488647699356079\n",
      "67 1.4832499027252197\n",
      "68 1.4778950214385986\n",
      "69 1.4725823402404785\n",
      "70 1.4673113822937012\n",
      "71 1.4620814323425293\n",
      "72 1.456892728805542\n",
      "73 1.451744556427002\n",
      "74 1.4466360807418823\n",
      "75 1.4415674209594727\n",
      "76 1.4365379810333252\n",
      "77 1.4315474033355713\n",
      "78 1.4265949726104736\n",
      "79 1.4216808080673218\n",
      "80 1.4168038368225098\n",
      "81 1.4119646549224854\n",
      "82 1.407161831855774\n",
      "83 1.4023957252502441\n",
      "84 1.3976657390594482\n",
      "85 1.392971158027649\n",
      "86 1.3883121013641357\n",
      "87 1.3836880922317505\n",
      "88 1.3790984153747559\n",
      "89 1.3745431900024414\n",
      "90 1.3700218200683594\n",
      "91 1.3655338287353516\n",
      "92 1.3610793352127075\n",
      "93 1.3566577434539795\n",
      "94 1.3522684574127197\n",
      "95 1.3479113578796387\n",
      "96 1.3435862064361572\n",
      "97 1.3392925262451172\n",
      "98 1.3350303173065186\n",
      "99 1.330798864364624\n",
      "w =  0.7628962993621826\n",
      "b =  -1.871150255203247\n"
     ]
    },
    {
     "name": "stderr",
     "output_type": "stream",
     "text": [
      "/home/mastlabzl/Programs/miniconda3/envs/PyTorch/lib/python3.7/site-packages/torch/nn/functional.py:1569: UserWarning: nn.functional.sigmoid is deprecated. Use torch.sigmoid instead.\n",
      "  warnings.warn(\"nn.functional.sigmoid is deprecated. Use torch.sigmoid instead.\")\n"
     ]
    }
   ],
   "source": [
    "# Training cycle\n",
    "for epoch in range(100):\n",
    "    epoch_list.append(epoch)\n",
    "    # forward\n",
    "    y_pred = model(x_data) # 实际上调用的是LinearModel.forward()函数\n",
    "    loss = criterion(y_pred, y_data) \n",
    "    loss_list.append(loss.item())\n",
    "    print(epoch, loss.item())\n",
    "    # 在backward前将权重清零\n",
    "    optimizer.zero_grad() \n",
    "    # backward\n",
    "    loss.backward() \n",
    "    # update\n",
    "    optimizer.step()\n",
    "print('w = ', model.linear.weight.item()) \n",
    "print('b = ', model.linear.bias.item())"
   ]
  },
  {
   "cell_type": "code",
   "execution_count": 119,
   "metadata": {},
   "outputs": [
    {
     "name": "stdout",
     "output_type": "stream",
     "text": [
      "y_pred =  0.7650259733200073\n"
     ]
    }
   ],
   "source": [
    "x_test = torch.Tensor([[4.0]])\n",
    "y_test = model(x_test) \n",
    "print('y_pred = ', y_test.item())"
   ]
  },
  {
   "cell_type": "code",
   "execution_count": 120,
   "metadata": {},
   "outputs": [
    {
     "data": {
      "image/png": "[encoded data removed]",
      "text/plain": [
       "<Figure size 432x288 with 1 Axes>"
      ]
     },
     "metadata": {
      "needs_background": "light"
     },
     "output_type": "display_data"
    }
   ],
   "source": [
    "# plot\n",
    "plt.plot(epoch_list, loss_list) \n",
    "plt.xlabel('epoch') \n",
    "plt.ylabel('loss')\n",
    "plt.grid() \n",
    "plt.show()"
   ]
  },
  {
   "cell_type": "code",
   "execution_count": 121,
   "metadata": {},
   "outputs": [
    {
     "data": {
      "image/png": "[encoded data removed]",
      "text/plain": [
       "<Figure size 432x288 with 1 Axes>"
      ]
     },
     "metadata": {
      "needs_background": "light"
     },
     "output_type": "display_data"
    }
   ],
   "source": [
    "x = np.linspace(0, 10, 200) # 在【0，10】之间采样200个点\n",
    "x_t = torch.Tensor(x).view((200, 1)) # 将x变为200行1列的tensor\n",
    "y_t = model(x_t) # 送入模型预测\n",
    "y = y_t.data.numpy() # 调用.numpy()得到numpy数组\n",
    "plt.plot(x, y) # 绘图\n",
    "plt.plot([0, 10], [0.5, 0.5], c='r') # 加参考线\n",
    "plt.xlabel('Hours') \n",
    "plt.ylabel('Probability of Pass') \n",
    "plt.grid() \n",
    "plt.show()"
   ]
  }
 ],
 "metadata": {
  "kernelspec": {
   "display_name": "PyTorch",
   "language": "python",
   "name": "pytorch"
  },
  "language_info": {
   "codemirror_mode": {
    "name": "ipython",
    "version": 3
   },
   "file_extension": ".py",
   "mimetype": "text/x-python",
   "name": "python",
   "nbconvert_exporter": "python",
   "pygments_lexer": "ipython3",
   "version": "3.7.7"
  }
 },
 "nbformat": 4,
 "nbformat_minor": 4
}
