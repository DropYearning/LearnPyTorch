{
 "cells": [
  {
   "cell_type": "markdown",
   "metadata": {},
   "source": [
    "# Inception Module in GoogleNet(Using GPU)\n",
    "![6QoQY2](https://gitee.com/pxqp9W/testmarkdown/raw/master/imgs/2020/07/6QoQY2.png)\n",
    "![8Doig2](https://gitee.com/pxqp9W/testmarkdown/raw/master/imgs/2020/07/8Doig2.png)\n",
    "![iNwxae](https://gitee.com/pxqp9W/testmarkdown/raw/master/imgs/2020/07/iNwxae.png)\n",
    "- 在Inception Module中初始输入的通道数目没有写死，而是采用变量input_channels表示，成为了__init__构造函数的一个参数\n"
   ]
  },
  {
   "cell_type": "code",
   "execution_count": 9,
   "metadata": {},
   "outputs": [],
   "source": [
    "import torch \n",
    "from torchvision import transforms \n",
    "from torchvision import datasets \n",
    "from torch.utils.data import DataLoader \n",
    "import torch.nn.functional as F \n",
    "import torch.optim as optim\n",
    "import time\n",
    "import matplotlib.pyplot as plt"
   ]
  },
  {
   "cell_type": "markdown",
   "metadata": {},
   "source": [
    "## 1、Prepare Dataset"
   ]
  },
  {
   "cell_type": "code",
   "execution_count": 10,
   "metadata": {},
   "outputs": [],
   "source": [
    "batch_size = 64\n",
    "\n",
    "## Convert the PIL Image to Tensor.\n",
    "transform = transforms.Compose([\n",
    "    transforms.ToTensor(), # 图像转变为ToTensor，取值变为0-1\n",
    "    transforms.Normalize((0.1307, ), (0.3081, )) \n",
    "    # 0.1307是均值mean, 0.3081是标准差std\n",
    "    # 这两个数是根据 MNIST数据集的特征得到的经验值\n",
    "])\n",
    "\n",
    "## 构造loader\n",
    "train_dataset = datasets.MNIST(root='./dataset/mnist/', \n",
    "                               train=True, \n",
    "                               download=True, \n",
    "                               transform=transform) # transform放入到了数据集中，这样每次取出来的数据都会直接做变换\n",
    "train_loader = DataLoader(train_dataset, \n",
    "                          shuffle=True, \n",
    "                          batch_size=batch_size)\n",
    "test_dataset = datasets.MNIST(root='./dataset/mnist/' , \n",
    "                              train=False, \n",
    "                              download=True, \n",
    "                              transform=transform)\n",
    "test_loader = DataLoader(test_dataset, \n",
    "                         shuffle=False, \n",
    "                         batch_size=batch_size)"
   ]
  },
  {
   "cell_type": "markdown",
   "metadata": {},
   "source": [
    "## 2、Design CNN Model \n",
    "### 2.1 构造Inception Module"
   ]
  },
  {
   "cell_type": "code",
   "execution_count": 11,
   "metadata": {},
   "outputs": [],
   "source": [
    "## Inception Module\n",
    "class InceptionA(torch.nn.Module):\n",
    "    def __init__(self, in_channels):\n",
    "        super(InceptionA, self).__init__() \n",
    "        self.branch1x1 = torch.nn.Conv2d(in_channels, 16, kernel_size=1)\n",
    "        \n",
    "        self.branch5x5_1 = torch.nn.Conv2d(in_channels,16, kernel_size=1) \n",
    "        self.branch5x5_2 = torch.nn.Conv2d(16, 24, kernel_size=5, padding=2)\n",
    "        \n",
    "        self.branch3x3_1 = torch.nn.Conv2d(in_channels, 16, kernel_size=1) \n",
    "        self.branch3x3_2 = torch.nn.Conv2d(16, 24, kernel_size=3, padding=1) \n",
    "        self.branch3x3_3 = torch.nn.Conv2d(24, 24, kernel_size=3, padding=1)\n",
    "        \n",
    "        self.branch_pool = torch.nn.Conv2d(in_channels, 24, kernel_size=1)\n",
    "\n",
    "    def forward(self, x):\n",
    "\n",
    "        branch1x1 = self.branch1x1(x)\n",
    "\n",
    "        branch5x5 = self.branch5x5_1(x) \n",
    "        branch5x5 = self.branch5x5_2(branch5x5)\n",
    "\n",
    "        branch3x3 = self.branch3x3_1(x) \n",
    "        branch3x3 = self.branch3x3_2(branch3x3) \n",
    "        branch3x3 = self.branch3x3_3(branch3x3)\n",
    "\n",
    "        branch_pool = F.avg_pool2d(x, kernel_size=3, stride=1, padding=1) \n",
    "        branch_pool = self.branch_pool(branch_pool)\n",
    "\n",
    "        outputs = [branch1x1, branch5x5, branch3x3, branch_pool] \n",
    "        return torch.cat(outputs, dim=1)"
   ]
  },
  {
   "cell_type": "markdown",
   "metadata": {},
   "source": [
    "## 2.2 构造网络结构"
   ]
  },
  {
   "cell_type": "code",
   "execution_count": 12,
   "metadata": {},
   "outputs": [
    {
     "data": {
      "text/plain": [
       "Net(\n",
       "  (conv1): Conv2d(1, 10, kernel_size=(5, 5), stride=(1, 1))\n",
       "  (conv2): Conv2d(88, 20, kernel_size=(5, 5), stride=(1, 1))\n",
       "  (incep1): InceptionA(\n",
       "    (branch1x1): Conv2d(10, 16, kernel_size=(1, 1), stride=(1, 1))\n",
       "    (branch5x5_1): Conv2d(10, 16, kernel_size=(1, 1), stride=(1, 1))\n",
       "    (branch5x5_2): Conv2d(16, 24, kernel_size=(5, 5), stride=(1, 1), padding=(2, 2))\n",
       "    (branch3x3_1): Conv2d(10, 16, kernel_size=(1, 1), stride=(1, 1))\n",
       "    (branch3x3_2): Conv2d(16, 24, kernel_size=(3, 3), stride=(1, 1), padding=(1, 1))\n",
       "    (branch3x3_3): Conv2d(24, 24, kernel_size=(3, 3), stride=(1, 1), padding=(1, 1))\n",
       "    (branch_pool): Conv2d(10, 24, kernel_size=(1, 1), stride=(1, 1))\n",
       "  )\n",
       "  (incep2): InceptionA(\n",
       "    (branch1x1): Conv2d(20, 16, kernel_size=(1, 1), stride=(1, 1))\n",
       "    (branch5x5_1): Conv2d(20, 16, kernel_size=(1, 1), stride=(1, 1))\n",
       "    (branch5x5_2): Conv2d(16, 24, kernel_size=(5, 5), stride=(1, 1), padding=(2, 2))\n",
       "    (branch3x3_1): Conv2d(20, 16, kernel_size=(1, 1), stride=(1, 1))\n",
       "    (branch3x3_2): Conv2d(16, 24, kernel_size=(3, 3), stride=(1, 1), padding=(1, 1))\n",
       "    (branch3x3_3): Conv2d(24, 24, kernel_size=(3, 3), stride=(1, 1), padding=(1, 1))\n",
       "    (branch_pool): Conv2d(20, 24, kernel_size=(1, 1), stride=(1, 1))\n",
       "  )\n",
       "  (mp): MaxPool2d(kernel_size=2, stride=2, padding=0, dilation=1, ceil_mode=False)\n",
       "  (fc): Linear(in_features=1408, out_features=10, bias=True)\n",
       ")"
      ]
     },
     "execution_count": 12,
     "metadata": {},
     "output_type": "execute_result"
    }
   ],
   "source": [
    "class Net(torch.nn.Module):\n",
    "    def __init__(self):\n",
    "        super(Net, self).__init__() \n",
    "        self.conv1 = torch.nn.Conv2d(1, 10, kernel_size=5) \n",
    "        self.conv2 = torch.nn.Conv2d(88, 20, kernel_size=5) \n",
    "        \n",
    "        self.incep1 = InceptionA(in_channels=10) \n",
    "        self.incep2 = InceptionA(in_channels=20)\n",
    "        \n",
    "        self.mp = torch.nn.MaxPool2d(2) \n",
    "        self.fc = torch.nn.Linear(1408, 10) # 88*4*4 = 1408 \n",
    "    \n",
    "    def forward(self, x):\n",
    "        # Flatten data from (n, 1, 28, 28) to (n, 784)\n",
    "        batch_size = x.size(0) \n",
    "        x = F.relu(self.mp(self.conv1(x)))\n",
    "        x = self.incep1(x)\n",
    "        x = F.relu(self.mp(self.conv2(x)))\n",
    "        x = self.incep2(x)\n",
    "        x = x.view(batch_size, -1) # flatten \n",
    "        # print x size\n",
    "        # print(x.size()) # torch.Size([64, 1408])\n",
    "        x = self.fc(x)  # 因为后面要用PyTorch的交叉熵函数，因此最后一层不做激活\n",
    "        return x\n",
    "    \n",
    "model = Net()\n",
    "## Define device as the first visible cuda device if we have CUDA available.\n",
    "device = torch.device(\"cuda:0\" if torch.cuda.is_available() else \"cpu\") \n",
    "## Convert parameters and buffers of all modules to CUDA Tensor.\n",
    "model.to(device)"
   ]
  },
  {
   "cell_type": "markdown",
   "metadata": {},
   "source": [
    "## 3、Construct Loss and Optimizer"
   ]
  },
  {
   "cell_type": "code",
   "execution_count": 13,
   "metadata": {},
   "outputs": [],
   "source": [
    "criterion = torch.nn.CrossEntropyLoss() \n",
    "optimizer = optim.SGD(model.parameters(), lr=0.01, momentum=0.5) # momentum表示动量"
   ]
  },
  {
   "cell_type": "markdown",
   "metadata": {},
   "source": [
    "## 4、Train & Test"
   ]
  },
  {
   "cell_type": "code",
   "execution_count": 14,
   "metadata": {},
   "outputs": [],
   "source": [
    "## 将训练过程封装到函数\n",
    "def train(epoch):\n",
    "    running_loss = 0.0\n",
    "    for batch_idx, data in enumerate(train_loader, 0):\n",
    "        inputs, target = data \n",
    "        ## Send the inputs and targets at every step to the GPU.\n",
    "        inputs, target = inputs.to(device), target.to(device)\n",
    "        optimizer.zero_grad()\n",
    "        \n",
    "        # forward + backward + update\n",
    "        outputs = model(inputs) \n",
    "        loss = criterion(outputs, target) \n",
    "        loss.backward() \n",
    "        optimizer.step()\n",
    "        running_loss += loss.item() \n",
    "        \n",
    "        if batch_idx % 300 == 299: \n",
    "            print('[%d, %5d] loss: %.3f' % (epoch + 1, batch_idx + 1, running_loss / 300)) \n",
    "            running_loss = 0.0"
   ]
  },
  {
   "cell_type": "code",
   "execution_count": 15,
   "metadata": {},
   "outputs": [],
   "source": [
    "## 将测试过程也封装为函数\n",
    "def test():\n",
    "    correct = 0 \n",
    "    total = 0\n",
    "    with torch.no_grad(): # Test过程中不需要计算梯度，可以使用“with torch.no_grad()”\n",
    "        for data in test_loader:\n",
    "            images, labels = data \n",
    "            # Send the inputs and targets at every step to the GPU.\n",
    "            images, labels = images.to(device), labels.to(device)\n",
    "            outputs = model(images) \n",
    "            _, predicted = torch.max(outputs.data, dim=1) # torch.max用来找行中的最大值所在下标 dim1表示沿着第1个维度找（行是第0个维度，列是第1个维度）\n",
    "            total += labels.size(0) # labels是一个N*1的向量，取size()得到的是元组(N,1),size(0)返回的是N\n",
    "            correct += (predicted == labels).sum().item() # 预测正确的数量，predicted == labels进行的是张量之间的比较运算\n",
    "    acc = 100 * correct / total\n",
    "    print('Accuracy on test set: %d %%' % (acc))\n",
    "    return acc"
   ]
  },
  {
   "cell_type": "markdown",
   "metadata": {},
   "source": [
    "## Main Function"
   ]
  },
  {
   "cell_type": "code",
   "execution_count": 16,
   "metadata": {},
   "outputs": [],
   "source": [
    "epoch_list = []\n",
    "acc_list = []"
   ]
  },
  {
   "cell_type": "code",
   "execution_count": 17,
   "metadata": {},
   "outputs": [
    {
     "name": "stdout",
     "output_type": "stream",
     "text": [
      "[1,   300] loss: 0.971\n",
      "[1,   600] loss: 0.210\n",
      "[1,   900] loss: 0.151\n",
      "Accuracy on test set: 96 %\n",
      "[2,   300] loss: 0.118\n",
      "[2,   600] loss: 0.108\n",
      "[2,   900] loss: 0.093\n",
      "Accuracy on test set: 97 %\n",
      "[3,   300] loss: 0.082\n",
      "[3,   600] loss: 0.084\n",
      "[3,   900] loss: 0.073\n",
      "Accuracy on test set: 97 %\n",
      "[4,   300] loss: 0.068\n",
      "[4,   600] loss: 0.070\n",
      "[4,   900] loss: 0.063\n",
      "Accuracy on test set: 98 %\n",
      "[5,   300] loss: 0.063\n",
      "[5,   600] loss: 0.058\n",
      "[5,   900] loss: 0.054\n",
      "Accuracy on test set: 98 %\n",
      "[6,   300] loss: 0.052\n",
      "[6,   600] loss: 0.054\n",
      "[6,   900] loss: 0.049\n",
      "Accuracy on test set: 98 %\n",
      "[7,   300] loss: 0.049\n",
      "[7,   600] loss: 0.044\n",
      "[7,   900] loss: 0.048\n",
      "Accuracy on test set: 98 %\n",
      "[8,   300] loss: 0.040\n",
      "[8,   600] loss: 0.046\n",
      "[8,   900] loss: 0.043\n",
      "Accuracy on test set: 98 %\n",
      "[9,   300] loss: 0.035\n",
      "[9,   600] loss: 0.043\n",
      "[9,   900] loss: 0.042\n",
      "Accuracy on test set: 98 %\n",
      "[10,   300] loss: 0.036\n",
      "[10,   600] loss: 0.039\n",
      "[10,   900] loss: 0.035\n",
      "Accuracy on test set: 98 %\n",
      "Total time:  121.382563829422 s\n"
     ]
    }
   ],
   "source": [
    "if __name__ == '__main__':\n",
    "    start = time.time()\n",
    "    for epoch in range(10):\n",
    "        train(epoch) \n",
    "        epoch_list.append(epoch)\n",
    "        acc_list.append(test())\n",
    "    end = time.time()\n",
    "    print(\"Total time: \", end - start , \"s\")"
   ]
  },
  {
   "cell_type": "code",
   "execution_count": 18,
   "metadata": {},
   "outputs": [
    {
     "data": {
      "image/png": "[encoded data removed]",
      "text/plain": [
       "<Figure size 432x288 with 1 Axes>"
      ]
     },
     "metadata": {
      "needs_background": "light"
     },
     "output_type": "display_data"
    }
   ],
   "source": [
    "# plot\n",
    "plt.plot(epoch_list, acc_list) \n",
    "plt.xlabel('epoch') \n",
    "plt.ylabel('acc')\n",
    "plt.show()"
   ]
  }
 ],
 "metadata": {
  "kernelspec": {
   "display_name": "PyTorch",
   "language": "python",
   "name": "pytorch"
  },
  "language_info": {
   "codemirror_mode": {
    "name": "ipython",
    "version": 3
   },
   "file_extension": ".py",
   "mimetype": "text/x-python",
   "name": "python",
   "nbconvert_exporter": "python",
   "pygments_lexer": "ipython3",
   "version": "3.7.7"
  }
 },
 "nbformat": 4,
 "nbformat_minor": 4
}
