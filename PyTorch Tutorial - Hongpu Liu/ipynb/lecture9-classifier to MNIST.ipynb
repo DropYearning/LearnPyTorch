{
 "cells": [
  {
   "cell_type": "code",
   "execution_count": 38,
   "metadata": {},
   "outputs": [],
   "source": [
    "import torch \n",
    "from torchvision import transforms \n",
    "from torchvision import datasets \n",
    "from torch.utils.data import DataLoader \n",
    "import torch.nn.functional as F \n",
    "import torch.optim as optim\n",
    "import time"
   ]
  },
  {
   "cell_type": "markdown",
   "metadata": {},
   "source": [
    "## 1、Prepare Dataset"
   ]
  },
  {
   "cell_type": "code",
   "execution_count": 39,
   "metadata": {},
   "outputs": [],
   "source": [
    "batch_size = 64\n",
    "\n",
    "## Convert the PIL Image to Tensor.\n",
    "transform = transforms.Compose([\n",
    "    transforms.ToTensor(), # 图像转变为ToTensor，取值变为0-1\n",
    "    transforms.Normalize((0.1307, ), (0.3081, )) \n",
    "    # 0.1307是均值mean, 0.3081是标准差std\n",
    "    # 这两个数是根据 MNIST数据集的特征得到的经验值\n",
    "])\n",
    "\n",
    "## 构造loader\n",
    "train_dataset = datasets.MNIST(root='./dataset/mnist/', \n",
    "                               train=True, \n",
    "                               download=True, \n",
    "                               transform=transform) # transform放入到了数据集中，这样每次取出来的数据都会直接做变换\n",
    "train_loader = DataLoader(train_dataset, \n",
    "                          shuffle=True, \n",
    "                          batch_size=batch_size)\n",
    "test_dataset = datasets.MNIST(root='./dataset/mnist/' , \n",
    "                              train=False, \n",
    "                              download=True, \n",
    "                              transform=transform)\n",
    "test_loader = DataLoader(test_dataset, \n",
    "                         shuffle=False, \n",
    "                         batch_size=batch_size)"
   ]
  },
  {
   "cell_type": "markdown",
   "metadata": {},
   "source": [
    "![eGnr5U](https://gitee.com/pxqp9W/testmarkdown/raw/master/imgs/2020/07/eGnr5U.png)\n",
    "\n",
    "```python\n",
    "transform = transforms.Compose([\n",
    "    transforms.ToTensor(),\n",
    "    transforms.Normalize((0.1307, ), (0.3081, )) \n",
    "])\n",
    "```\n",
    "\n",
    "将28×28的0-255的像素值，转换为1×28×28在[0，1]之间的张量，其中1表示 **通道** 数目\n",
    "![AzuJQM](https://gitee.com/pxqp9W/testmarkdown/raw/master/imgs/2020/07/AzuJQM.png)\n",
    "数据归一化，其中的均值和标准差是根据MNIST数据集的特征确定的"
   ]
  },
  {
   "cell_type": "markdown",
   "metadata": {},
   "source": [
    "![mXTFiV](https://gitee.com/pxqp9W/testmarkdown/raw/master/imgs/2020/07/mXTFiV.png)"
   ]
  },
  {
   "cell_type": "markdown",
   "metadata": {},
   "source": [
    "## 2、Design Model "
   ]
  },
  {
   "cell_type": "code",
   "execution_count": 40,
   "metadata": {},
   "outputs": [],
   "source": [
    "class Net(torch.nn.Module):\n",
    "    def __init__(self):\n",
    "        super(Net, self).__init__() \n",
    "        self.l1 = torch.nn.Linear(784, 512) \n",
    "        self.l2 = torch.nn.Linear(512, 256) \n",
    "        self.l3 = torch.nn.Linear(256, 128) \n",
    "        self.l4 = torch.nn.Linear(128, 64) \n",
    "        self.l5 = torch.nn.Linear(64, 10)\n",
    "\n",
    "    def forward(self, x):\n",
    "        x = x.view(-1, 784) # view函数可以改变tensor的形状，变为784列, 如果是torch.view(-1)则原张量会变成一维的结构。\n",
    "        x = F.relu(self.l1(x)) # 784->512\n",
    "        x = F.relu(self.l2(x)) # 512->256\n",
    "        x = F.relu(self.l3(x)) # 256->128\n",
    "        x = F.relu(self.l4(x)) # 128->64\n",
    "        return self.l5(x) # 64->10，这里要注意最后一层没有用激活函数，因为后面调用torch.nn.CrossEntropyLoss()的时候自带激活函数\n",
    "model = Net()"
   ]
  },
  {
   "cell_type": "markdown",
   "metadata": {},
   "source": [
    "## 3、Construct Loss and Optimizer"
   ]
  },
  {
   "cell_type": "code",
   "execution_count": 41,
   "metadata": {},
   "outputs": [],
   "source": [
    "criterion = torch.nn.CrossEntropyLoss() \n",
    "optimizer = optim.SGD(model.parameters(), lr=0.01, momentum=0.5) # momentum表示动量"
   ]
  },
  {
   "cell_type": "markdown",
   "metadata": {},
   "source": [
    "- SGD方法的一个缺点是，其更新方向完全依赖于当前的batch，因而其更新十分不稳定。解决这一问题的一个简单的做法便是引入momentum。\n",
    "- 这里是用了优化了的SGD算法：SGD with Momentum\n",
    "- Momentum在梯度下降的过程中加入了惯性，使得梯度方向不变的维度上速度变快，梯度方向有所改变的维度上的更新速度变慢，这样就可以加快收敛并减小震荡\n",
    "- momentum即动量，**它模拟的是物体运动时的惯性，即更新的时候在一定程度上保留之前更新的方向，同时利用当前batch的梯度微调最终的更新方向。这样一来，可以在一定程度上增加稳定性，从而学习地更快，并且还有一定摆脱局部最优的能力**"
   ]
  },
  {
   "cell_type": "markdown",
   "metadata": {},
   "source": [
    "## 4、Train & Test"
   ]
  },
  {
   "cell_type": "code",
   "execution_count": 42,
   "metadata": {},
   "outputs": [],
   "source": [
    "## 将训练过程封装到函数\n",
    "def train(epoch):\n",
    "    running_loss = 0.0\n",
    "    for batch_idx, data in enumerate(train_loader, 0):\n",
    "        inputs, target = data \n",
    "        optimizer.zero_grad()\n",
    "        \n",
    "        # forward + backward + update\n",
    "        outputs = model(inputs) \n",
    "        loss = criterion(outputs, target) \n",
    "        loss.backward() \n",
    "        optimizer.step()\n",
    "        running_loss += loss.item() \n",
    "        \n",
    "        if batch_idx % 300 == 299: \n",
    "            print('[%d, %5d] loss: %.3f' % (epoch + 1, batch_idx + 1, running_loss / 300)) \n",
    "            running_loss = 0.0"
   ]
  },
  {
   "cell_type": "code",
   "execution_count": 43,
   "metadata": {},
   "outputs": [],
   "source": [
    "## 将测试过程也封装为函数\n",
    "def test():\n",
    "    correct = 0 \n",
    "    total = 0\n",
    "    with torch.no_grad(): # Test过程中不需要计算梯度，可以使用“with torch.no_grad()”\n",
    "        for data in test_loader:\n",
    "            images, labels = data \n",
    "            outputs = model(images) \n",
    "            _, predicted = torch.max(outputs.data, dim=1) # torch.max用来找行中的最大值所在下标 dim1表示沿着第1个维度找（行是第0个维度，列是第1个维度）\n",
    "            total += labels.size(0) # labels是一个N*1的向量，取size()得到的是元组(N,1),size(0)返回的是N\n",
    "            correct += (predicted == labels).sum().item() # 预测正确的数量，predicted == labels进行的是张量之间的比较运算\n",
    "    print('Accuracy on test set: %d %%' % (100 * correct / total))"
   ]
  },
  {
   "cell_type": "markdown",
   "metadata": {},
   "source": [
    "> `with torch.no_grad():`中的运算代码不会计算梯度"
   ]
  },
  {
   "cell_type": "markdown",
   "metadata": {},
   "source": [
    "## Main Function"
   ]
  },
  {
   "cell_type": "code",
   "execution_count": 44,
   "metadata": {},
   "outputs": [
    {
     "name": "stdout",
     "output_type": "stream",
     "text": [
      "[1,   300] loss: 2.263\n",
      "[1,   600] loss: 1.187\n",
      "[1,   900] loss: 0.442\n",
      "Accuracy on test set: 90 %\n",
      "[2,   300] loss: 0.317\n",
      "[2,   600] loss: 0.278\n",
      "[2,   900] loss: 0.228\n",
      "Accuracy on test set: 93 %\n",
      "[3,   300] loss: 0.192\n",
      "[3,   600] loss: 0.163\n",
      "[3,   900] loss: 0.159\n",
      "Accuracy on test set: 95 %\n",
      "[4,   300] loss: 0.125\n",
      "[4,   600] loss: 0.128\n",
      "[4,   900] loss: 0.116\n",
      "Accuracy on test set: 96 %\n",
      "[5,   300] loss: 0.103\n",
      "[5,   600] loss: 0.099\n",
      "[5,   900] loss: 0.087\n",
      "Accuracy on test set: 96 %\n",
      "[6,   300] loss: 0.080\n",
      "[6,   600] loss: 0.078\n",
      "[6,   900] loss: 0.069\n",
      "Accuracy on test set: 97 %\n",
      "[7,   300] loss: 0.057\n",
      "[7,   600] loss: 0.062\n",
      "[7,   900] loss: 0.064\n",
      "Accuracy on test set: 97 %\n",
      "[8,   300] loss: 0.047\n",
      "[8,   600] loss: 0.050\n",
      "[8,   900] loss: 0.051\n",
      "Accuracy on test set: 97 %\n",
      "[9,   300] loss: 0.040\n",
      "[9,   600] loss: 0.039\n",
      "[9,   900] loss: 0.042\n",
      "Accuracy on test set: 97 %\n",
      "[10,   300] loss: 0.030\n",
      "[10,   600] loss: 0.033\n",
      "[10,   900] loss: 0.036\n",
      "Accuracy on test set: 97 %\n",
      "Total time:  97.4272677898407 s\n"
     ]
    }
   ],
   "source": [
    "if __name__ == '__main__':\n",
    "    start = time.time()\n",
    "    for epoch in range(10):\n",
    "        train(epoch) \n",
    "        test()\n",
    "    end = time.time()\n",
    "    print(\"Total time: \", end - start , \"s\")"
   ]
  }
 ],
 "metadata": {
  "kernelspec": {
   "display_name": "PyTorch",
   "language": "python",
   "name": "pytorch"
  },
  "language_info": {
   "codemirror_mode": {
    "name": "ipython",
    "version": 3
   },
   "file_extension": ".py",
   "mimetype": "text/x-python",
   "name": "python",
   "nbconvert_exporter": "python",
   "pygments_lexer": "ipython3",
   "version": "3.7.7"
  }
 },
 "nbformat": 4,
 "nbformat_minor": 4
}
